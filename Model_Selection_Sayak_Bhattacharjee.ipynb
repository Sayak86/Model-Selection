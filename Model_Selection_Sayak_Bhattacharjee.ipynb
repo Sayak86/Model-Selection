{
 "cells": [
  {
   "cell_type": "markdown",
   "metadata": {},
   "source": [
    "## Cross Validation with Linear Regression\n",
    "This notebook demonsteates the use of cross -validation with linear regression, cross validation is a technique which is heavily use in the field of machine learning.We will use sklearn for cross validation.\n",
    "\n",
    "Key sreas of this notebook\n",
    "- Experiment to understand overfitting\n",
    "- Buil a linear regression model without cross-validation\n",
    "- Problems with the approach (no cross-validation)\n",
    "- What is cross-validaTION\n",
    "- cROSS VALIDATION IN SKLEARN"
   ]
  },
  {
   "cell_type": "markdown",
   "metadata": {},
   "source": [
    "### Experiment to understand overfitting\n",
    "\n",
    "We will use polynomial regression to understand the impact of overfitting."
   ]
  },
  {
   "cell_type": "code",
   "execution_count": null,
   "metadata": {},
   "outputs": [],
   "source": [
    "import pandas as pd\n",
    "import numpy as np\n",
    "import matplotlib.pyplot as plt\n",
    "import seaborn as sns\n",
    "\n",
    "from sklearn.model_selection import train_test_split\n",
    "from sklearn.preprocessing import MinMaxScaler\n",
    "from sklearn.preprocessing import PolynomialFeatures\n",
    "from sklearn.preprocessing import scale\n",
    "from sklearn.feature_selection import RFE\n",
    "from sklearn.linear_model import LinearRegression\n",
    "\n",
    "\n",
    "import warnings\n",
    "warnings.filterwarnings('ignore')\n"
   ]
  },
  {
   "cell_type": "code",
   "execution_count": null,
   "metadata": {},
   "outputs": [],
   "source": [
    "# import housing data\n",
    "housing = pd.read_csv('Housing.csv')\n",
    "housing.head()"
   ]
  },
  {
   "cell_type": "code",
   "execution_count": null,
   "metadata": {},
   "outputs": [],
   "source": [
    "housing.shape"
   ]
  },
  {
   "cell_type": "markdown",
   "metadata": {},
   "source": [
    "### For the experiment we will do regression only opn one parameter and that is area. So we will take out our target variable price and the feature variable area"
   ]
  },
  {
   "cell_type": "code",
   "execution_count": null,
   "metadata": {},
   "outputs": [],
   "source": [
    "df = housing[ ['area','price'] ]\n",
    "df"
   ]
  },
  {
   "cell_type": "code",
   "execution_count": null,
   "metadata": {},
   "outputs": [],
   "source": [
    "# Lets visualize the relationship between area and price\n",
    "\n",
    "sns.scatterplot(data=df,x=df.area,y=df.price)\n",
    "plt.show()\n",
    "\n",
    "# it shows to some extent linearity between price and area"
   ]
  },
  {
   "cell_type": "code",
   "execution_count": null,
   "metadata": {},
   "outputs": [],
   "source": [
    "# Test Train Split\n",
    "df_train,df_test= train_test_split(df, test_size=.3,random_state=10)"
   ]
  },
  {
   "cell_type": "code",
   "execution_count": null,
   "metadata": {},
   "outputs": [],
   "source": [
    "print(len(df_train))"
   ]
  },
  {
   "cell_type": "code",
   "execution_count": null,
   "metadata": {},
   "outputs": [],
   "source": [
    "# Create X and y for both train and test data\n",
    "X_train = df_train['area']\n",
    "y_train = df_train['price']\n",
    "\n",
    "X_test = df_test['area']\n",
    "y_test = df_test['price']"
   ]
  },
  {
   "cell_type": "code",
   "execution_count": null,
   "metadata": {},
   "outputs": [],
   "source": [
    "X_train.shape"
   ]
  },
  {
   "cell_type": "markdown",
   "metadata": {},
   "source": [
    "### Now we will use multiple polynomials to the training data apart from a straight line.Fitting polynomial to the startight line is known as polunomial regression.We will try to fit a single indeterminate polynomial regression here as we have only one feature variable as area for our test. In sklearn polynomial features can be generated using `PolynomialFeatures` class.\n"
   ]
  },
  {
   "cell_type": "code",
   "execution_count": null,
   "metadata": {},
   "outputs": [],
   "source": [
    "# Polynomial degree 1 (Linear) and 10\n",
    "# Since we use 1D array for the feature varaible (area) we must convert it to (n,1) as sklearn does not accept shape (n, )\n",
    "X_train = X_train.values.reshape(-1,1)\n",
    "X_test = X_test.values.reshape(-1,1)\n"
   ]
  },
  {
   "cell_type": "code",
   "execution_count": null,
   "metadata": {},
   "outputs": [],
   "source": [
    "# Pipeline = A sequence of data transformers with an optional final predictor.\n",
    "# Pipeline allows you to sequentially apply a list of transformers to preprocess the data and, if desired, conclude the sequence with a final predictor for predictive modeling.\n",
    "# Intermediate steps of the pipeline must be ‘transforms’, that is, they must implement fit and transform methods. The final estimator only needs to implement fit. The transformers in the pipeline can be cached using memory argument.\n",
    "\n",
    "# We will Perform MinMaxScelar as preprocessing followed by Linear Regression\n",
    "\n",
    "from  sklearn.pipeline import make_pipeline,Pipeline\n",
    " \n",
    "\n"
   ]
  },
  {
   "cell_type": "code",
   "execution_count": null,
   "metadata": {},
   "outputs": [],
   "source": [
    "steps = [\n",
    "    (\"Min_Max_Scelar\",MinMaxScaler()),\n",
    "    (\"Degree1\",LinearRegression())\n",
    "]"
   ]
  },
  {
   "cell_type": "code",
   "execution_count": null,
   "metadata": {},
   "outputs": [],
   "source": [
    "pipe = Pipeline(steps)"
   ]
  },
  {
   "cell_type": "code",
   "execution_count": null,
   "metadata": {},
   "outputs": [],
   "source": [
    "pipe.fit(X_train,y_train)"
   ]
  },
  {
   "cell_type": "code",
   "execution_count": null,
   "metadata": {},
   "outputs": [],
   "source": [
    "y_test_pred = pipe.predict(X_test)\n",
    "y_test_pred"
   ]
  },
  {
   "cell_type": "code",
   "execution_count": null,
   "metadata": {},
   "outputs": [],
   "source": [
    "y_train_pred = pipe.predict(X_train)\n",
    "y_train_pred"
   ]
  },
  {
   "cell_type": "code",
   "execution_count": null,
   "metadata": {},
   "outputs": [],
   "source": [
    "import sklearn"
   ]
  },
  {
   "cell_type": "code",
   "execution_count": null,
   "metadata": {},
   "outputs": [],
   "source": [
    "round(sklearn.metrics.r2_score(y_train,y_train_pred),2)"
   ]
  },
  {
   "cell_type": "code",
   "execution_count": null,
   "metadata": {},
   "outputs": [],
   "source": [
    "round(sklearn.metrics.r2_score(y_test,y_test_pred),2)"
   ]
  },
  {
   "cell_type": "markdown",
   "metadata": {},
   "source": [
    "### So with degree 1 or linear model we have achived a very close r2 score between test and train data"
   ]
  },
  {
   "cell_type": "markdown",
   "metadata": {},
   "source": [
    "### Now we will fit a polynomial model and will check the same r2 between test and train data\n"
   ]
  },
  {
   "cell_type": "code",
   "execution_count": null,
   "metadata": {},
   "outputs": [],
   "source": [
    "steps = [\n",
    "    (\"Min_Max_Scelar\",MinMaxScaler()),\n",
    "    (\"polinomial\",PolynomialFeatures(20)),\n",
    "    (\"Degree20\",LinearRegression())\n",
    "] "
   ]
  },
  {
   "cell_type": "code",
   "execution_count": null,
   "metadata": {},
   "outputs": [],
   "source": [
    "pipe = Pipeline(steps)"
   ]
  },
  {
   "cell_type": "code",
   "execution_count": null,
   "metadata": {},
   "outputs": [],
   "source": [
    "pipe"
   ]
  },
  {
   "cell_type": "code",
   "execution_count": null,
   "metadata": {},
   "outputs": [],
   "source": [
    "pipe.fit(X_train,y_train)"
   ]
  },
  {
   "cell_type": "code",
   "execution_count": null,
   "metadata": {},
   "outputs": [],
   "source": [
    "#Predict on training data\n",
    "y_train_pred = pipe.predict(X_train)\n",
    "y_train_pred"
   ]
  },
  {
   "cell_type": "code",
   "execution_count": null,
   "metadata": {},
   "outputs": [],
   "source": [
    "#Predict on test  data\n",
    "y_test_pred = pipe.predict(X_test)\n",
    "y_test_pred"
   ]
  },
  {
   "cell_type": "code",
   "execution_count": null,
   "metadata": {},
   "outputs": [],
   "source": [
    "# Calculate the r2 score on training data\n",
    "round(sklearn.metrics.r2_score(y_train,y_train_pred),2)"
   ]
  },
  {
   "cell_type": "code",
   "execution_count": null,
   "metadata": {},
   "outputs": [],
   "source": [
    "# Calculate the r2 score on test data\n",
    "\n",
    "round(sklearn.metrics.r2_score(y_test,y_test_pred),2)"
   ]
  },
  {
   "cell_type": "markdown",
   "metadata": {},
   "source": [
    "##  1. Now we will build a linear regression model without using cross -validation.\n",
    "#### Steps included\n",
    "    . data pre processing (convert boolean to 1,0 and categorical variables to dummy)\n",
    "    . Train/Test split\n",
    "    . Feature scaling on train data\n",
    "    . Feature scaling on test data\n",
    "    . Divide into X and y\n",
    "    . RFE based feature selection\n",
    "    . Model fiting and prediction"
   ]
  },
  {
   "cell_type": "code",
   "execution_count": null,
   "metadata": {},
   "outputs": [],
   "source": [
    "# Convert yes/no colmns to 1/0\n",
    "bol_var = ['mainroad','guestroom','basement','hotwaterheating','airconditioning','prefarea']  \n",
    "for i in  bol_var:\n",
    "    housing[i] = housing[i].map({'yes':1,'no':0}) \n",
    "housing[bol_var]      "
   ]
  },
  {
   "cell_type": "code",
   "execution_count": null,
   "metadata": {},
   "outputs": [],
   "source": [
    "# Convert Categorical variables to dummy\n",
    "# For that first change the data type to category and then create dummy, this will create dummy and drop the original col at the same time\n",
    "\n",
    "housing.furnishingstatus = housing.furnishingstatus.astype('category')\n",
    "status = pd.get_dummies(housing.furnishingstatus,dtype=int,drop_first=True)\n",
    "housing.drop(['furnishingstatus'],axis=1,inplace=True)\n",
    "housing = pd.concat([housing,status],axis=1)\n",
    "housing.head()"
   ]
  },
  {
   "cell_type": "code",
   "execution_count": null,
   "metadata": {},
   "outputs": [],
   "source": [
    "# Train-Test split using sklearn\n",
    "from sklearn.model_selection import train_test_split\n",
    "from sklearn.preprocessing import MinMaxScaler"
   ]
  },
  {
   "cell_type": "code",
   "execution_count": null,
   "metadata": {},
   "outputs": [],
   "source": [
    "df_train,df_test = train_test_split(housing,train_size=.7,random_state=11)"
   ]
  },
  {
   "cell_type": "code",
   "execution_count": null,
   "metadata": {},
   "outputs": [],
   "source": [
    "# Divide into X and y for train\n",
    "y_train = df_train.pop('price')\n",
    "X_train = df_train\n",
    "\n",
    "# Divide into X and y for test\n",
    "y_test = df_test.pop('price')\n",
    "X_test = df_test"
   ]
  },
  {
   "cell_type": "code",
   "execution_count": null,
   "metadata": {},
   "outputs": [],
   "source": [
    "# Feature scaling of train data for the numerical feature varaibales\n",
    "# We use MinMax scelar\n",
    "\n",
    "numeric_vars = ['area', 'bedrooms', 'bathrooms', 'stories', 'parking']\n",
    "scaler = MinMaxScaler()\n",
    "df_train[numeric_vars] = scaler.fit_transform(df_train[numeric_vars])\n",
    "df_train[numeric_vars]"
   ]
  },
  {
   "cell_type": "code",
   "execution_count": null,
   "metadata": {},
   "outputs": [],
   "source": [
    "# Now we will use scaling of test data\n",
    "# On Test data we should only use transform using the same scaler object\n",
    "\n",
    "df_test[numeric_vars] = scaler.transform(df_test[numeric_vars] )\n",
    "df_test.head()"
   ]
  },
  {
   "cell_type": "markdown",
   "metadata": {},
   "source": [
    "## Use RFE - Now, we have 13 predictor features. To build the model using RFE, we need to tell RFE how many features we want in the final model. It then runs a feature elimination algorithm.\n",
    "#### Note that the number of features to be used in the model is a `hyperparameter`.\n",
    "\n",
    "\n"
   ]
  },
  {
   "cell_type": "code",
   "execution_count": null,
   "metadata": {},
   "outputs": [],
   "source": [
    "from sklearn.feature_selection import RFE"
   ]
  },
  {
   "cell_type": "code",
   "execution_count": null,
   "metadata": {},
   "outputs": [],
   "source": [
    "# first select an arbitrary no of feature as 10\n",
    "\n",
    "model = LinearRegression()\n",
    "model.fit(X_train,y_train)\n",
    "\n",
    "#Apply RFE\n",
    "rfe = RFE(model,n_features_to_select=10)\n",
    "rfe = rfe.fit(X_train, y_train)\n"
   ]
  },
  {
   "cell_type": "code",
   "execution_count": null,
   "metadata": {},
   "outputs": [],
   "source": [
    "# tuples of (feature name, whether selected, ranking)\n",
    "\n",
    "list(zip(df_train.columns,rfe.support_,rfe.ranking_))"
   ]
  },
  {
   "cell_type": "code",
   "execution_count": null,
   "metadata": {},
   "outputs": [],
   "source": [
    "# predict prices of X_test\n",
    "\n",
    "y_test_pred = rfe.predict(X_test)"
   ]
  },
  {
   "cell_type": "code",
   "execution_count": null,
   "metadata": {},
   "outputs": [],
   "source": [
    "# Evaluate the model performance\n",
    "round(sklearn.metrics.r2_score(y_test,y_test_pred),3)"
   ]
  },
  {
   "cell_type": "code",
   "execution_count": null,
   "metadata": {},
   "outputs": [],
   "source": [
    "# Now create another model even reduced number of feature varaiables\n",
    "model = LinearRegression()\n",
    "model.fit(X_train,y_train)\n",
    "\n",
    "rfe = RFE(model,n_features_to_select=6)\n",
    "rfe = rfe.fit(X_train,y_train)"
   ]
  },
  {
   "cell_type": "code",
   "execution_count": null,
   "metadata": {},
   "outputs": [],
   "source": [
    "# predict prices of X_test\n",
    "y_test_pred = rfe.predict(X_test)\n",
    "\n",
    "# Evaluate the model performance\n",
    "round(sklearn.metrics.r2_score(y_test,y_test_pred),2)"
   ]
  },
  {
   "cell_type": "markdown",
   "metadata": {},
   "source": [
    "### K-fold cross validation"
   ]
  },
  {
   "cell_type": "code",
   "execution_count": null,
   "metadata": {},
   "outputs": [],
   "source": [
    "# We will perform k-fold cv with all 13 feature variables\n",
    "from sklearn.model_selection import cross_val_score"
   ]
  },
  {
   "cell_type": "code",
   "execution_count": 116,
   "metadata": {},
   "outputs": [
    {
     "data": {
      "text/plain": [
       "array([0.64878953, 0.68327107, 0.62222529, 0.74800986, 0.65809982])"
      ]
     },
     "execution_count": 116,
     "metadata": {},
     "output_type": "execute_result"
    }
   ],
   "source": [
    "model =LinearRegression()\n",
    "scores  = cross_val_score(model,X_train,y_train,scoring='r2',cv=5)\n",
    "scores"
   ]
  },
  {
   "cell_type": "code",
   "execution_count": 117,
   "metadata": {},
   "outputs": [
    {
     "data": {
      "text/plain": [
       "array([-1.16798003e+12, -1.21484841e+12, -1.58749933e+12, -8.78381870e+11,\n",
       "       -1.13827735e+12])"
      ]
     },
     "execution_count": 117,
     "metadata": {},
     "output_type": "execute_result"
    }
   ],
   "source": [
    "# can tune other metrics, such as MSE\n",
    "scores = cross_val_score(model,X_train,y_train,scoring='neg_mean_squared_error',cv=5)\n",
    "scores"
   ]
  },
  {
   "cell_type": "markdown",
   "metadata": {},
   "source": [
    "## Use of K-fold cross validation for hyper parameter tuning. We will use grid search cross validation technique for the hyper parameter tuning here.\n",
    "#### In our case the number of hyper parameteres are 13 which are the number of parameters or feature variables. We will perform the k-fold CV for each of the 13 variables and take mean of train and test score for each. With CV =5 we will get 4 training data mean and 1 test data mean for each hyper parameter. Mean of the training and test data of ech hyperparameter will then be plotted to get a visualization about the impact.\n"
   ]
  },
  {
   "cell_type": "code",
   "execution_count": 123,
   "metadata": {},
   "outputs": [],
   "source": [
    "from sklearn.model_selection import KFold\n",
    "from sklearn.model_selection import GridSearchCV"
   ]
  },
  {
   "cell_type": "code",
   "execution_count": 124,
   "metadata": {},
   "outputs": [
    {
     "name": "stdout",
     "output_type": "stream",
     "text": [
      "Fitting 5 folds for each of 13 candidates, totalling 65 fits\n"
     ]
    },
    {
     "data": {
      "text/html": [
       "<style>#sk-container-id-10 {color: black;}#sk-container-id-10 pre{padding: 0;}#sk-container-id-10 div.sk-toggleable {background-color: white;}#sk-container-id-10 label.sk-toggleable__label {cursor: pointer;display: block;width: 100%;margin-bottom: 0;padding: 0.3em;box-sizing: border-box;text-align: center;}#sk-container-id-10 label.sk-toggleable__label-arrow:before {content: \"▸\";float: left;margin-right: 0.25em;color: #696969;}#sk-container-id-10 label.sk-toggleable__label-arrow:hover:before {color: black;}#sk-container-id-10 div.sk-estimator:hover label.sk-toggleable__label-arrow:before {color: black;}#sk-container-id-10 div.sk-toggleable__content {max-height: 0;max-width: 0;overflow: hidden;text-align: left;background-color: #f0f8ff;}#sk-container-id-10 div.sk-toggleable__content pre {margin: 0.2em;color: black;border-radius: 0.25em;background-color: #f0f8ff;}#sk-container-id-10 input.sk-toggleable__control:checked~div.sk-toggleable__content {max-height: 200px;max-width: 100%;overflow: auto;}#sk-container-id-10 input.sk-toggleable__control:checked~label.sk-toggleable__label-arrow:before {content: \"▾\";}#sk-container-id-10 div.sk-estimator input.sk-toggleable__control:checked~label.sk-toggleable__label {background-color: #d4ebff;}#sk-container-id-10 div.sk-label input.sk-toggleable__control:checked~label.sk-toggleable__label {background-color: #d4ebff;}#sk-container-id-10 input.sk-hidden--visually {border: 0;clip: rect(1px 1px 1px 1px);clip: rect(1px, 1px, 1px, 1px);height: 1px;margin: -1px;overflow: hidden;padding: 0;position: absolute;width: 1px;}#sk-container-id-10 div.sk-estimator {font-family: monospace;background-color: #f0f8ff;border: 1px dotted black;border-radius: 0.25em;box-sizing: border-box;margin-bottom: 0.5em;}#sk-container-id-10 div.sk-estimator:hover {background-color: #d4ebff;}#sk-container-id-10 div.sk-parallel-item::after {content: \"\";width: 100%;border-bottom: 1px solid gray;flex-grow: 1;}#sk-container-id-10 div.sk-label:hover label.sk-toggleable__label {background-color: #d4ebff;}#sk-container-id-10 div.sk-serial::before {content: \"\";position: absolute;border-left: 1px solid gray;box-sizing: border-box;top: 0;bottom: 0;left: 50%;z-index: 0;}#sk-container-id-10 div.sk-serial {display: flex;flex-direction: column;align-items: center;background-color: white;padding-right: 0.2em;padding-left: 0.2em;position: relative;}#sk-container-id-10 div.sk-item {position: relative;z-index: 1;}#sk-container-id-10 div.sk-parallel {display: flex;align-items: stretch;justify-content: center;background-color: white;position: relative;}#sk-container-id-10 div.sk-item::before, #sk-container-id-10 div.sk-parallel-item::before {content: \"\";position: absolute;border-left: 1px solid gray;box-sizing: border-box;top: 0;bottom: 0;left: 50%;z-index: -1;}#sk-container-id-10 div.sk-parallel-item {display: flex;flex-direction: column;z-index: 1;position: relative;background-color: white;}#sk-container-id-10 div.sk-parallel-item:first-child::after {align-self: flex-end;width: 50%;}#sk-container-id-10 div.sk-parallel-item:last-child::after {align-self: flex-start;width: 50%;}#sk-container-id-10 div.sk-parallel-item:only-child::after {width: 0;}#sk-container-id-10 div.sk-dashed-wrapped {border: 1px dashed gray;margin: 0 0.4em 0.5em 0.4em;box-sizing: border-box;padding-bottom: 0.4em;background-color: white;}#sk-container-id-10 div.sk-label label {font-family: monospace;font-weight: bold;display: inline-block;line-height: 1.2em;}#sk-container-id-10 div.sk-label-container {text-align: center;}#sk-container-id-10 div.sk-container {/* jupyter's `normalize.less` sets `[hidden] { display: none; }` but bootstrap.min.css set `[hidden] { display: none !important; }` so we also need the `!important` here to be able to override the default hidden behavior on the sphinx rendered scikit-learn.org. See: https://github.com/scikit-learn/scikit-learn/issues/21755 */display: inline-block !important;position: relative;}#sk-container-id-10 div.sk-text-repr-fallback {display: none;}</style><div id=\"sk-container-id-10\" class=\"sk-top-container\"><div class=\"sk-text-repr-fallback\"><pre>GridSearchCV(cv=KFold(n_splits=5, random_state=100, shuffle=True),\n",
       "             estimator=RFE(estimator=LinearRegression()),\n",
       "             param_grid=[{&#x27;n_features_to_select&#x27;: [1, 2, 3, 4, 5, 6, 7, 8, 9,\n",
       "                                                   10, 11, 12, 13]}],\n",
       "             return_train_score=True, scoring=&#x27;r2&#x27;, verbose=1)</pre><b>In a Jupyter environment, please rerun this cell to show the HTML representation or trust the notebook. <br />On GitHub, the HTML representation is unable to render, please try loading this page with nbviewer.org.</b></div><div class=\"sk-container\" hidden><div class=\"sk-item sk-dashed-wrapped\"><div class=\"sk-label-container\"><div class=\"sk-label sk-toggleable\"><input class=\"sk-toggleable__control sk-hidden--visually\" id=\"sk-estimator-id-34\" type=\"checkbox\" ><label for=\"sk-estimator-id-34\" class=\"sk-toggleable__label sk-toggleable__label-arrow\">GridSearchCV</label><div class=\"sk-toggleable__content\"><pre>GridSearchCV(cv=KFold(n_splits=5, random_state=100, shuffle=True),\n",
       "             estimator=RFE(estimator=LinearRegression()),\n",
       "             param_grid=[{&#x27;n_features_to_select&#x27;: [1, 2, 3, 4, 5, 6, 7, 8, 9,\n",
       "                                                   10, 11, 12, 13]}],\n",
       "             return_train_score=True, scoring=&#x27;r2&#x27;, verbose=1)</pre></div></div></div><div class=\"sk-parallel\"><div class=\"sk-parallel-item\"><div class=\"sk-item\"><div class=\"sk-label-container\"><div class=\"sk-label sk-toggleable\"><input class=\"sk-toggleable__control sk-hidden--visually\" id=\"sk-estimator-id-35\" type=\"checkbox\" ><label for=\"sk-estimator-id-35\" class=\"sk-toggleable__label sk-toggleable__label-arrow\">estimator: RFE</label><div class=\"sk-toggleable__content\"><pre>RFE(estimator=LinearRegression())</pre></div></div></div><div class=\"sk-serial\"><div class=\"sk-item sk-dashed-wrapped\"><div class=\"sk-parallel\"><div class=\"sk-parallel-item\"><div class=\"sk-item\"><div class=\"sk-label-container\"><div class=\"sk-label sk-toggleable\"><input class=\"sk-toggleable__control sk-hidden--visually\" id=\"sk-estimator-id-36\" type=\"checkbox\" ><label for=\"sk-estimator-id-36\" class=\"sk-toggleable__label sk-toggleable__label-arrow\">estimator: LinearRegression</label><div class=\"sk-toggleable__content\"><pre>LinearRegression()</pre></div></div></div><div class=\"sk-serial\"><div class=\"sk-item\"><div class=\"sk-estimator sk-toggleable\"><input class=\"sk-toggleable__control sk-hidden--visually\" id=\"sk-estimator-id-37\" type=\"checkbox\" ><label for=\"sk-estimator-id-37\" class=\"sk-toggleable__label sk-toggleable__label-arrow\">LinearRegression</label><div class=\"sk-toggleable__content\"><pre>LinearRegression()</pre></div></div></div></div></div></div></div></div></div></div></div></div></div></div></div>"
      ],
      "text/plain": [
       "GridSearchCV(cv=KFold(n_splits=5, random_state=100, shuffle=True),\n",
       "             estimator=RFE(estimator=LinearRegression()),\n",
       "             param_grid=[{'n_features_to_select': [1, 2, 3, 4, 5, 6, 7, 8, 9,\n",
       "                                                   10, 11, 12, 13]}],\n",
       "             return_train_score=True, scoring='r2', verbose=1)"
      ]
     },
     "execution_count": 124,
     "metadata": {},
     "output_type": "execute_result"
    }
   ],
   "source": [
    "# Step 1 : Create a cross validation scheme\n",
    "\n",
    "kfold = KFold(n_splits=5,random_state=100,shuffle=True)\n",
    "\n",
    "# Step 2 : Specify the range of hyper parameters\n",
    "hyper_params = [{'n_features_to_select' : list(range(1,14))}]\n",
    "\n",
    "# Step 3 : perform grid search\n",
    "# Step 3.1 : Specify model\n",
    "model = LinearRegression()\n",
    "model.fit(X_train,y_train)\n",
    "rfe = RFE(model)\n",
    "\n",
    "# Step 3.2 : Perform grid search\n",
    "model_cv = GridSearchCV(estimator=rfe,scoring='r2',return_train_score=True,param_grid=hyper_params,cv=kfold,verbose=1)\n",
    "model_cv.fit(X_train,y_train)\n"
   ]
  },
  {
   "cell_type": "code",
   "execution_count": 126,
   "metadata": {},
   "outputs": [
    {
     "data": {
      "text/html": [
       "<div>\n",
       "<style scoped>\n",
       "    .dataframe tbody tr th:only-of-type {\n",
       "        vertical-align: middle;\n",
       "    }\n",
       "\n",
       "    .dataframe tbody tr th {\n",
       "        vertical-align: top;\n",
       "    }\n",
       "\n",
       "    .dataframe thead th {\n",
       "        text-align: right;\n",
       "    }\n",
       "</style>\n",
       "<table border=\"1\" class=\"dataframe\">\n",
       "  <thead>\n",
       "    <tr style=\"text-align: right;\">\n",
       "      <th></th>\n",
       "      <th>mean_fit_time</th>\n",
       "      <th>std_fit_time</th>\n",
       "      <th>mean_score_time</th>\n",
       "      <th>std_score_time</th>\n",
       "      <th>param_n_features_to_select</th>\n",
       "      <th>params</th>\n",
       "      <th>split0_test_score</th>\n",
       "      <th>split1_test_score</th>\n",
       "      <th>split2_test_score</th>\n",
       "      <th>split3_test_score</th>\n",
       "      <th>...</th>\n",
       "      <th>mean_test_score</th>\n",
       "      <th>std_test_score</th>\n",
       "      <th>rank_test_score</th>\n",
       "      <th>split0_train_score</th>\n",
       "      <th>split1_train_score</th>\n",
       "      <th>split2_train_score</th>\n",
       "      <th>split3_train_score</th>\n",
       "      <th>split4_train_score</th>\n",
       "      <th>mean_train_score</th>\n",
       "      <th>std_train_score</th>\n",
       "    </tr>\n",
       "  </thead>\n",
       "  <tbody>\n",
       "    <tr>\n",
       "      <th>0</th>\n",
       "      <td>0.043284</td>\n",
       "      <td>0.007811</td>\n",
       "      <td>0.005545</td>\n",
       "      <td>0.001479</td>\n",
       "      <td>1</td>\n",
       "      <td>{'n_features_to_select': 1}</td>\n",
       "      <td>0.214842</td>\n",
       "      <td>0.065616</td>\n",
       "      <td>0.182113</td>\n",
       "      <td>0.247254</td>\n",
       "      <td>...</td>\n",
       "      <td>0.203338</td>\n",
       "      <td>0.080246</td>\n",
       "      <td>13</td>\n",
       "      <td>0.321667</td>\n",
       "      <td>0.288158</td>\n",
       "      <td>0.283864</td>\n",
       "      <td>0.311650</td>\n",
       "      <td>0.279224</td>\n",
       "      <td>0.296913</td>\n",
       "      <td>0.016672</td>\n",
       "    </tr>\n",
       "    <tr>\n",
       "      <th>1</th>\n",
       "      <td>0.025857</td>\n",
       "      <td>0.003484</td>\n",
       "      <td>0.003718</td>\n",
       "      <td>0.000569</td>\n",
       "      <td>2</td>\n",
       "      <td>{'n_features_to_select': 2}</td>\n",
       "      <td>0.396607</td>\n",
       "      <td>0.322564</td>\n",
       "      <td>0.475573</td>\n",
       "      <td>0.452122</td>\n",
       "      <td>...</td>\n",
       "      <td>0.431318</td>\n",
       "      <td>0.065683</td>\n",
       "      <td>12</td>\n",
       "      <td>0.487367</td>\n",
       "      <td>0.493136</td>\n",
       "      <td>0.470345</td>\n",
       "      <td>0.474865</td>\n",
       "      <td>0.435568</td>\n",
       "      <td>0.472256</td>\n",
       "      <td>0.020104</td>\n",
       "    </tr>\n",
       "    <tr>\n",
       "      <th>2</th>\n",
       "      <td>0.021895</td>\n",
       "      <td>0.004170</td>\n",
       "      <td>0.004107</td>\n",
       "      <td>0.000703</td>\n",
       "      <td>3</td>\n",
       "      <td>{'n_features_to_select': 3}</td>\n",
       "      <td>0.489339</td>\n",
       "      <td>0.299628</td>\n",
       "      <td>0.522051</td>\n",
       "      <td>0.496118</td>\n",
       "      <td>...</td>\n",
       "      <td>0.481159</td>\n",
       "      <td>0.098714</td>\n",
       "      <td>11</td>\n",
       "      <td>0.555574</td>\n",
       "      <td>0.527728</td>\n",
       "      <td>0.549653</td>\n",
       "      <td>0.551427</td>\n",
       "      <td>0.504613</td>\n",
       "      <td>0.537799</td>\n",
       "      <td>0.019209</td>\n",
       "    </tr>\n",
       "    <tr>\n",
       "      <th>3</th>\n",
       "      <td>0.027703</td>\n",
       "      <td>0.001584</td>\n",
       "      <td>0.004722</td>\n",
       "      <td>0.000985</td>\n",
       "      <td>4</td>\n",
       "      <td>{'n_features_to_select': 4}</td>\n",
       "      <td>0.484793</td>\n",
       "      <td>0.408584</td>\n",
       "      <td>0.558733</td>\n",
       "      <td>0.522473</td>\n",
       "      <td>...</td>\n",
       "      <td>0.519229</td>\n",
       "      <td>0.071373</td>\n",
       "      <td>10</td>\n",
       "      <td>0.566355</td>\n",
       "      <td>0.572052</td>\n",
       "      <td>0.581420</td>\n",
       "      <td>0.585053</td>\n",
       "      <td>0.543405</td>\n",
       "      <td>0.569657</td>\n",
       "      <td>0.014705</td>\n",
       "    </tr>\n",
       "    <tr>\n",
       "      <th>4</th>\n",
       "      <td>0.026107</td>\n",
       "      <td>0.001732</td>\n",
       "      <td>0.005967</td>\n",
       "      <td>0.000620</td>\n",
       "      <td>5</td>\n",
       "      <td>{'n_features_to_select': 5}</td>\n",
       "      <td>0.542946</td>\n",
       "      <td>0.454245</td>\n",
       "      <td>0.538221</td>\n",
       "      <td>0.510935</td>\n",
       "      <td>...</td>\n",
       "      <td>0.539680</td>\n",
       "      <td>0.064445</td>\n",
       "      <td>9</td>\n",
       "      <td>0.588962</td>\n",
       "      <td>0.599792</td>\n",
       "      <td>0.629090</td>\n",
       "      <td>0.634579</td>\n",
       "      <td>0.590843</td>\n",
       "      <td>0.608653</td>\n",
       "      <td>0.019356</td>\n",
       "    </tr>\n",
       "    <tr>\n",
       "      <th>5</th>\n",
       "      <td>0.027660</td>\n",
       "      <td>0.004115</td>\n",
       "      <td>0.005553</td>\n",
       "      <td>0.000915</td>\n",
       "      <td>6</td>\n",
       "      <td>{'n_features_to_select': 6}</td>\n",
       "      <td>0.591945</td>\n",
       "      <td>0.480954</td>\n",
       "      <td>0.519999</td>\n",
       "      <td>0.533743</td>\n",
       "      <td>...</td>\n",
       "      <td>0.562445</td>\n",
       "      <td>0.071134</td>\n",
       "      <td>8</td>\n",
       "      <td>0.630888</td>\n",
       "      <td>0.646387</td>\n",
       "      <td>0.637637</td>\n",
       "      <td>0.674963</td>\n",
       "      <td>0.631931</td>\n",
       "      <td>0.644361</td>\n",
       "      <td>0.016260</td>\n",
       "    </tr>\n",
       "    <tr>\n",
       "      <th>6</th>\n",
       "      <td>0.029347</td>\n",
       "      <td>0.004648</td>\n",
       "      <td>0.006903</td>\n",
       "      <td>0.001701</td>\n",
       "      <td>7</td>\n",
       "      <td>{'n_features_to_select': 7}</td>\n",
       "      <td>0.630419</td>\n",
       "      <td>0.495689</td>\n",
       "      <td>0.596057</td>\n",
       "      <td>0.554653</td>\n",
       "      <td>...</td>\n",
       "      <td>0.594309</td>\n",
       "      <td>0.067363</td>\n",
       "      <td>7</td>\n",
       "      <td>0.663826</td>\n",
       "      <td>0.653613</td>\n",
       "      <td>0.672705</td>\n",
       "      <td>0.681577</td>\n",
       "      <td>0.641164</td>\n",
       "      <td>0.662577</td>\n",
       "      <td>0.014170</td>\n",
       "    </tr>\n",
       "    <tr>\n",
       "      <th>7</th>\n",
       "      <td>0.024781</td>\n",
       "      <td>0.001072</td>\n",
       "      <td>0.006468</td>\n",
       "      <td>0.000782</td>\n",
       "      <td>8</td>\n",
       "      <td>{'n_features_to_select': 8}</td>\n",
       "      <td>0.642471</td>\n",
       "      <td>0.583434</td>\n",
       "      <td>0.631758</td>\n",
       "      <td>0.560043</td>\n",
       "      <td>...</td>\n",
       "      <td>0.623201</td>\n",
       "      <td>0.048280</td>\n",
       "      <td>5</td>\n",
       "      <td>0.672382</td>\n",
       "      <td>0.678877</td>\n",
       "      <td>0.691564</td>\n",
       "      <td>0.684295</td>\n",
       "      <td>0.643742</td>\n",
       "      <td>0.674172</td>\n",
       "      <td>0.016470</td>\n",
       "    </tr>\n",
       "    <tr>\n",
       "      <th>8</th>\n",
       "      <td>0.020741</td>\n",
       "      <td>0.002113</td>\n",
       "      <td>0.006518</td>\n",
       "      <td>0.000568</td>\n",
       "      <td>9</td>\n",
       "      <td>{'n_features_to_select': 9}</td>\n",
       "      <td>0.622054</td>\n",
       "      <td>0.570129</td>\n",
       "      <td>0.636053</td>\n",
       "      <td>0.576194</td>\n",
       "      <td>...</td>\n",
       "      <td>0.622708</td>\n",
       "      <td>0.050144</td>\n",
       "      <td>6</td>\n",
       "      <td>0.686331</td>\n",
       "      <td>0.686253</td>\n",
       "      <td>0.706789</td>\n",
       "      <td>0.699374</td>\n",
       "      <td>0.660829</td>\n",
       "      <td>0.687915</td>\n",
       "      <td>0.015662</td>\n",
       "    </tr>\n",
       "    <tr>\n",
       "      <th>9</th>\n",
       "      <td>0.016390</td>\n",
       "      <td>0.001004</td>\n",
       "      <td>0.006519</td>\n",
       "      <td>0.000986</td>\n",
       "      <td>10</td>\n",
       "      <td>{'n_features_to_select': 10}</td>\n",
       "      <td>0.653151</td>\n",
       "      <td>0.596168</td>\n",
       "      <td>0.640294</td>\n",
       "      <td>0.600386</td>\n",
       "      <td>...</td>\n",
       "      <td>0.640224</td>\n",
       "      <td>0.041765</td>\n",
       "      <td>4</td>\n",
       "      <td>0.694944</td>\n",
       "      <td>0.697789</td>\n",
       "      <td>0.709485</td>\n",
       "      <td>0.708327</td>\n",
       "      <td>0.668771</td>\n",
       "      <td>0.695863</td>\n",
       "      <td>0.014693</td>\n",
       "    </tr>\n",
       "    <tr>\n",
       "      <th>10</th>\n",
       "      <td>0.013225</td>\n",
       "      <td>0.001496</td>\n",
       "      <td>0.005178</td>\n",
       "      <td>0.000995</td>\n",
       "      <td>11</td>\n",
       "      <td>{'n_features_to_select': 11}</td>\n",
       "      <td>0.671318</td>\n",
       "      <td>0.615773</td>\n",
       "      <td>0.641749</td>\n",
       "      <td>0.611319</td>\n",
       "      <td>...</td>\n",
       "      <td>0.649909</td>\n",
       "      <td>0.036653</td>\n",
       "      <td>3</td>\n",
       "      <td>0.698534</td>\n",
       "      <td>0.707608</td>\n",
       "      <td>0.709510</td>\n",
       "      <td>0.709820</td>\n",
       "      <td>0.674135</td>\n",
       "      <td>0.699921</td>\n",
       "      <td>0.013534</td>\n",
       "    </tr>\n",
       "    <tr>\n",
       "      <th>11</th>\n",
       "      <td>0.010955</td>\n",
       "      <td>0.001546</td>\n",
       "      <td>0.006065</td>\n",
       "      <td>0.001349</td>\n",
       "      <td>12</td>\n",
       "      <td>{'n_features_to_select': 12}</td>\n",
       "      <td>0.681092</td>\n",
       "      <td>0.598946</td>\n",
       "      <td>0.645929</td>\n",
       "      <td>0.617310</td>\n",
       "      <td>...</td>\n",
       "      <td>0.652857</td>\n",
       "      <td>0.043954</td>\n",
       "      <td>2</td>\n",
       "      <td>0.699652</td>\n",
       "      <td>0.710585</td>\n",
       "      <td>0.709718</td>\n",
       "      <td>0.710041</td>\n",
       "      <td>0.677998</td>\n",
       "      <td>0.701599</td>\n",
       "      <td>0.012480</td>\n",
       "    </tr>\n",
       "    <tr>\n",
       "      <th>12</th>\n",
       "      <td>0.009067</td>\n",
       "      <td>0.001056</td>\n",
       "      <td>0.005776</td>\n",
       "      <td>0.001718</td>\n",
       "      <td>13</td>\n",
       "      <td>{'n_features_to_select': 13}</td>\n",
       "      <td>0.682406</td>\n",
       "      <td>0.602616</td>\n",
       "      <td>0.648393</td>\n",
       "      <td>0.620007</td>\n",
       "      <td>...</td>\n",
       "      <td>0.653536</td>\n",
       "      <td>0.040655</td>\n",
       "      <td>1</td>\n",
       "      <td>0.700625</td>\n",
       "      <td>0.711752</td>\n",
       "      <td>0.709813</td>\n",
       "      <td>0.710092</td>\n",
       "      <td>0.681879</td>\n",
       "      <td>0.702832</td>\n",
       "      <td>0.011179</td>\n",
       "    </tr>\n",
       "  </tbody>\n",
       "</table>\n",
       "<p>13 rows × 21 columns</p>\n",
       "</div>"
      ],
      "text/plain": [
       "    mean_fit_time  std_fit_time  mean_score_time  std_score_time  \\\n",
       "0        0.043284      0.007811         0.005545        0.001479   \n",
       "1        0.025857      0.003484         0.003718        0.000569   \n",
       "2        0.021895      0.004170         0.004107        0.000703   \n",
       "3        0.027703      0.001584         0.004722        0.000985   \n",
       "4        0.026107      0.001732         0.005967        0.000620   \n",
       "5        0.027660      0.004115         0.005553        0.000915   \n",
       "6        0.029347      0.004648         0.006903        0.001701   \n",
       "7        0.024781      0.001072         0.006468        0.000782   \n",
       "8        0.020741      0.002113         0.006518        0.000568   \n",
       "9        0.016390      0.001004         0.006519        0.000986   \n",
       "10       0.013225      0.001496         0.005178        0.000995   \n",
       "11       0.010955      0.001546         0.006065        0.001349   \n",
       "12       0.009067      0.001056         0.005776        0.001718   \n",
       "\n",
       "   param_n_features_to_select                        params  \\\n",
       "0                           1   {'n_features_to_select': 1}   \n",
       "1                           2   {'n_features_to_select': 2}   \n",
       "2                           3   {'n_features_to_select': 3}   \n",
       "3                           4   {'n_features_to_select': 4}   \n",
       "4                           5   {'n_features_to_select': 5}   \n",
       "5                           6   {'n_features_to_select': 6}   \n",
       "6                           7   {'n_features_to_select': 7}   \n",
       "7                           8   {'n_features_to_select': 8}   \n",
       "8                           9   {'n_features_to_select': 9}   \n",
       "9                          10  {'n_features_to_select': 10}   \n",
       "10                         11  {'n_features_to_select': 11}   \n",
       "11                         12  {'n_features_to_select': 12}   \n",
       "12                         13  {'n_features_to_select': 13}   \n",
       "\n",
       "    split0_test_score  split1_test_score  split2_test_score  \\\n",
       "0            0.214842           0.065616           0.182113   \n",
       "1            0.396607           0.322564           0.475573   \n",
       "2            0.489339           0.299628           0.522051   \n",
       "3            0.484793           0.408584           0.558733   \n",
       "4            0.542946           0.454245           0.538221   \n",
       "5            0.591945           0.480954           0.519999   \n",
       "6            0.630419           0.495689           0.596057   \n",
       "7            0.642471           0.583434           0.631758   \n",
       "8            0.622054           0.570129           0.636053   \n",
       "9            0.653151           0.596168           0.640294   \n",
       "10           0.671318           0.615773           0.641749   \n",
       "11           0.681092           0.598946           0.645929   \n",
       "12           0.682406           0.602616           0.648393   \n",
       "\n",
       "    split3_test_score  ...  mean_test_score  std_test_score  rank_test_score  \\\n",
       "0            0.247254  ...         0.203338        0.080246               13   \n",
       "1            0.452122  ...         0.431318        0.065683               12   \n",
       "2            0.496118  ...         0.481159        0.098714               11   \n",
       "3            0.522473  ...         0.519229        0.071373               10   \n",
       "4            0.510935  ...         0.539680        0.064445                9   \n",
       "5            0.533743  ...         0.562445        0.071134                8   \n",
       "6            0.554653  ...         0.594309        0.067363                7   \n",
       "7            0.560043  ...         0.623201        0.048280                5   \n",
       "8            0.576194  ...         0.622708        0.050144                6   \n",
       "9            0.600386  ...         0.640224        0.041765                4   \n",
       "10           0.611319  ...         0.649909        0.036653                3   \n",
       "11           0.617310  ...         0.652857        0.043954                2   \n",
       "12           0.620007  ...         0.653536        0.040655                1   \n",
       "\n",
       "    split0_train_score  split1_train_score  split2_train_score  \\\n",
       "0             0.321667            0.288158            0.283864   \n",
       "1             0.487367            0.493136            0.470345   \n",
       "2             0.555574            0.527728            0.549653   \n",
       "3             0.566355            0.572052            0.581420   \n",
       "4             0.588962            0.599792            0.629090   \n",
       "5             0.630888            0.646387            0.637637   \n",
       "6             0.663826            0.653613            0.672705   \n",
       "7             0.672382            0.678877            0.691564   \n",
       "8             0.686331            0.686253            0.706789   \n",
       "9             0.694944            0.697789            0.709485   \n",
       "10            0.698534            0.707608            0.709510   \n",
       "11            0.699652            0.710585            0.709718   \n",
       "12            0.700625            0.711752            0.709813   \n",
       "\n",
       "    split3_train_score  split4_train_score  mean_train_score  std_train_score  \n",
       "0             0.311650            0.279224          0.296913         0.016672  \n",
       "1             0.474865            0.435568          0.472256         0.020104  \n",
       "2             0.551427            0.504613          0.537799         0.019209  \n",
       "3             0.585053            0.543405          0.569657         0.014705  \n",
       "4             0.634579            0.590843          0.608653         0.019356  \n",
       "5             0.674963            0.631931          0.644361         0.016260  \n",
       "6             0.681577            0.641164          0.662577         0.014170  \n",
       "7             0.684295            0.643742          0.674172         0.016470  \n",
       "8             0.699374            0.660829          0.687915         0.015662  \n",
       "9             0.708327            0.668771          0.695863         0.014693  \n",
       "10            0.709820            0.674135          0.699921         0.013534  \n",
       "11            0.710041            0.677998          0.701599         0.012480  \n",
       "12            0.710092            0.681879          0.702832         0.011179  \n",
       "\n",
       "[13 rows x 21 columns]"
      ]
     },
     "execution_count": 126,
     "metadata": {},
     "output_type": "execute_result"
    }
   ],
   "source": [
    "cv_results  = pd.DataFrame(model_cv.cv_results_)\n",
    "cv_results"
   ]
  },
  {
   "cell_type": "code",
   "execution_count": 129,
   "metadata": {},
   "outputs": [
    {
     "data": {
      "image/png": "[encoded data removed]",
      "text/plain": [
       "<Figure size 1600x600 with 1 Axes>"
      ]
     },
     "metadata": {},
     "output_type": "display_data"
    }
   ],
   "source": [
    "# plotting cv results\n",
    "\n",
    "plt.figure(figsize=(16,6))\n",
    "plt.plot(cv_results['param_n_features_to_select'] , cv_results['mean_train_score'])\n",
    "plt.plot(cv_results['param_n_features_to_select'] , cv_results['mean_test_score'])\n",
    "plt.xlabel('number of features')\n",
    "plt.ylabel('r-squared')\n",
    "plt.title(\"Optimal Number of Features\")\n",
    "plt.legend(['test score', 'train score'], loc='upper left')\n",
    "plt.show()"
   ]
  },
  {
   "cell_type": "markdown",
   "metadata": {},
   "source": [
    "#### Now we can choose the optimal value of number of features and build a final model.We choose 10"
   ]
  },
  {
   "cell_type": "code",
   "execution_count": 131,
   "metadata": {},
   "outputs": [
    {
     "data": {
      "text/plain": [
       "0.6"
      ]
     },
     "execution_count": 131,
     "metadata": {},
     "output_type": "execute_result"
    }
   ],
   "source": [
    "model = LinearRegression()\n",
    "model.fit(X_train,y_train)\n",
    "rfe = RFE(model,n_features_to_select=10)\n",
    "\n",
    "rfe = rfe.fit(X_train,y_train)\n",
    "\n",
    "# predict prices of X_test\n",
    "y_test_pred = rfe.predict(X_test)\n",
    "r2 = round(sklearn.metrics.r2_score(y_test, y_test_pred),2)\n",
    "r2"
   ]
  }
 ],
 "metadata": {
  "kernelspec": {
   "display_name": "base",
   "language": "python",
   "name": "python3"
  },
  "language_info": {
   "codemirror_mode": {
    "name": "ipython",
    "version": 3
   },
   "file_extension": ".py",
   "mimetype": "text/x-python",
   "name": "python",
   "nbconvert_exporter": "python",
   "pygments_lexer": "ipython3",
   "version": "3.11.5"
  }
 },
 "nbformat": 4,
 "nbformat_minor": 2
}
